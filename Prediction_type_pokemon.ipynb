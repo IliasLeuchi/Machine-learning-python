{
 "cells": [
  {
   "cell_type": "markdown",
   "id": "8713ce6b",
   "metadata": {},
   "source": [
    "# RAPPORT PROJET POKEMON"
   ]
  },
  {
   "cell_type": "markdown",
   "id": "48984354",
   "metadata": {},
   "source": [
    "Pour ce projet nous avons décidé de travailler avec des données sur des pokémon. L'objectif est double, une première partie consistera à prédire un pokémon à partir d'une image, la deuxième partie aura pour but de voir si les caractéristiques d'un pokémon pouvaient prédire son type. Pour illustrer notre travail, nous avons mis en place une interface graphique qui utilise ses deux modèles de prédictions."
   ]
  },
  {
   "cell_type": "markdown",
   "id": "5e9a309f",
   "metadata": {},
   "source": [
    "## Prédiction du type d'un pokémon"
   ]
  },
  {
   "cell_type": "markdown",
   "id": "3ced02c8",
   "metadata": {},
   "source": [
    "Nous voulions savoir si les statistiques d'un pokémon pouvais expliquée correctement son type principal. L'objectif de cette partie va êtres de déterminer la meilleure méthode pour prédir le type d'un pokémon. Pour cela nous partons d'un jeu de données avec plusieurs informations sur 721 pokémon, dont leurs statistiques. "
   ]
  },
  {
   "cell_type": "code",
   "execution_count": 56,
   "id": "4935eb48",
   "metadata": {},
   "outputs": [
    {
     "data": {
      "text/html": [
       "<div>\n",
       "<style scoped>\n",
       "    .dataframe tbody tr th:only-of-type {\n",
       "        vertical-align: middle;\n",
       "    }\n",
       "\n",
       "    .dataframe tbody tr th {\n",
       "        vertical-align: top;\n",
       "    }\n",
       "\n",
       "    .dataframe thead th {\n",
       "        text-align: right;\n",
       "    }\n",
       "</style>\n",
       "<table border=\"1\" class=\"dataframe\">\n",
       "  <thead>\n",
       "    <tr style=\"text-align: right;\">\n",
       "      <th></th>\n",
       "      <th>Number</th>\n",
       "      <th>Name</th>\n",
       "      <th>Type_1</th>\n",
       "      <th>Type_2</th>\n",
       "      <th>Total</th>\n",
       "      <th>HP</th>\n",
       "      <th>Attack</th>\n",
       "      <th>Defense</th>\n",
       "      <th>Sp_Atk</th>\n",
       "      <th>Sp_Def</th>\n",
       "      <th>...</th>\n",
       "      <th>Color</th>\n",
       "      <th>hasGender</th>\n",
       "      <th>Pr_Male</th>\n",
       "      <th>Egg_Group_1</th>\n",
       "      <th>Egg_Group_2</th>\n",
       "      <th>hasMegaEvolution</th>\n",
       "      <th>Height_m</th>\n",
       "      <th>Weight_kg</th>\n",
       "      <th>Catch_Rate</th>\n",
       "      <th>Body_Style</th>\n",
       "    </tr>\n",
       "  </thead>\n",
       "  <tbody>\n",
       "    <tr>\n",
       "      <th>0</th>\n",
       "      <td>1</td>\n",
       "      <td>Bulbasaur</td>\n",
       "      <td>Grass</td>\n",
       "      <td>Poison</td>\n",
       "      <td>318</td>\n",
       "      <td>45</td>\n",
       "      <td>49</td>\n",
       "      <td>49</td>\n",
       "      <td>65</td>\n",
       "      <td>65</td>\n",
       "      <td>...</td>\n",
       "      <td>Green</td>\n",
       "      <td>True</td>\n",
       "      <td>0.875</td>\n",
       "      <td>Monster</td>\n",
       "      <td>Grass</td>\n",
       "      <td>False</td>\n",
       "      <td>0.71</td>\n",
       "      <td>6.9</td>\n",
       "      <td>45</td>\n",
       "      <td>quadruped</td>\n",
       "    </tr>\n",
       "    <tr>\n",
       "      <th>1</th>\n",
       "      <td>2</td>\n",
       "      <td>Ivysaur</td>\n",
       "      <td>Grass</td>\n",
       "      <td>Poison</td>\n",
       "      <td>405</td>\n",
       "      <td>60</td>\n",
       "      <td>62</td>\n",
       "      <td>63</td>\n",
       "      <td>80</td>\n",
       "      <td>80</td>\n",
       "      <td>...</td>\n",
       "      <td>Green</td>\n",
       "      <td>True</td>\n",
       "      <td>0.875</td>\n",
       "      <td>Monster</td>\n",
       "      <td>Grass</td>\n",
       "      <td>False</td>\n",
       "      <td>0.99</td>\n",
       "      <td>13.0</td>\n",
       "      <td>45</td>\n",
       "      <td>quadruped</td>\n",
       "    </tr>\n",
       "    <tr>\n",
       "      <th>2</th>\n",
       "      <td>3</td>\n",
       "      <td>Venusaur</td>\n",
       "      <td>Grass</td>\n",
       "      <td>Poison</td>\n",
       "      <td>525</td>\n",
       "      <td>80</td>\n",
       "      <td>82</td>\n",
       "      <td>83</td>\n",
       "      <td>100</td>\n",
       "      <td>100</td>\n",
       "      <td>...</td>\n",
       "      <td>Green</td>\n",
       "      <td>True</td>\n",
       "      <td>0.875</td>\n",
       "      <td>Monster</td>\n",
       "      <td>Grass</td>\n",
       "      <td>True</td>\n",
       "      <td>2.01</td>\n",
       "      <td>100.0</td>\n",
       "      <td>45</td>\n",
       "      <td>quadruped</td>\n",
       "    </tr>\n",
       "    <tr>\n",
       "      <th>3</th>\n",
       "      <td>4</td>\n",
       "      <td>Charmander</td>\n",
       "      <td>Fire</td>\n",
       "      <td>NaN</td>\n",
       "      <td>309</td>\n",
       "      <td>39</td>\n",
       "      <td>52</td>\n",
       "      <td>43</td>\n",
       "      <td>60</td>\n",
       "      <td>50</td>\n",
       "      <td>...</td>\n",
       "      <td>Red</td>\n",
       "      <td>True</td>\n",
       "      <td>0.875</td>\n",
       "      <td>Monster</td>\n",
       "      <td>Dragon</td>\n",
       "      <td>False</td>\n",
       "      <td>0.61</td>\n",
       "      <td>8.5</td>\n",
       "      <td>45</td>\n",
       "      <td>bipedal_tailed</td>\n",
       "    </tr>\n",
       "    <tr>\n",
       "      <th>4</th>\n",
       "      <td>5</td>\n",
       "      <td>Charmeleon</td>\n",
       "      <td>Fire</td>\n",
       "      <td>NaN</td>\n",
       "      <td>405</td>\n",
       "      <td>58</td>\n",
       "      <td>64</td>\n",
       "      <td>58</td>\n",
       "      <td>80</td>\n",
       "      <td>65</td>\n",
       "      <td>...</td>\n",
       "      <td>Red</td>\n",
       "      <td>True</td>\n",
       "      <td>0.875</td>\n",
       "      <td>Monster</td>\n",
       "      <td>Dragon</td>\n",
       "      <td>False</td>\n",
       "      <td>1.09</td>\n",
       "      <td>19.0</td>\n",
       "      <td>45</td>\n",
       "      <td>bipedal_tailed</td>\n",
       "    </tr>\n",
       "    <tr>\n",
       "      <th>...</th>\n",
       "      <td>...</td>\n",
       "      <td>...</td>\n",
       "      <td>...</td>\n",
       "      <td>...</td>\n",
       "      <td>...</td>\n",
       "      <td>...</td>\n",
       "      <td>...</td>\n",
       "      <td>...</td>\n",
       "      <td>...</td>\n",
       "      <td>...</td>\n",
       "      <td>...</td>\n",
       "      <td>...</td>\n",
       "      <td>...</td>\n",
       "      <td>...</td>\n",
       "      <td>...</td>\n",
       "      <td>...</td>\n",
       "      <td>...</td>\n",
       "      <td>...</td>\n",
       "      <td>...</td>\n",
       "      <td>...</td>\n",
       "      <td>...</td>\n",
       "    </tr>\n",
       "    <tr>\n",
       "      <th>119</th>\n",
       "      <td>120</td>\n",
       "      <td>Staryu</td>\n",
       "      <td>Water</td>\n",
       "      <td>NaN</td>\n",
       "      <td>340</td>\n",
       "      <td>30</td>\n",
       "      <td>45</td>\n",
       "      <td>55</td>\n",
       "      <td>70</td>\n",
       "      <td>55</td>\n",
       "      <td>...</td>\n",
       "      <td>Brown</td>\n",
       "      <td>False</td>\n",
       "      <td>NaN</td>\n",
       "      <td>Water_3</td>\n",
       "      <td>NaN</td>\n",
       "      <td>False</td>\n",
       "      <td>0.79</td>\n",
       "      <td>34.5</td>\n",
       "      <td>225</td>\n",
       "      <td>head_base</td>\n",
       "    </tr>\n",
       "    <tr>\n",
       "      <th>120</th>\n",
       "      <td>121</td>\n",
       "      <td>Starmie</td>\n",
       "      <td>Water</td>\n",
       "      <td>Psychic</td>\n",
       "      <td>520</td>\n",
       "      <td>60</td>\n",
       "      <td>75</td>\n",
       "      <td>85</td>\n",
       "      <td>100</td>\n",
       "      <td>85</td>\n",
       "      <td>...</td>\n",
       "      <td>Purple</td>\n",
       "      <td>False</td>\n",
       "      <td>NaN</td>\n",
       "      <td>Water_3</td>\n",
       "      <td>NaN</td>\n",
       "      <td>False</td>\n",
       "      <td>1.09</td>\n",
       "      <td>80.0</td>\n",
       "      <td>60</td>\n",
       "      <td>head_base</td>\n",
       "    </tr>\n",
       "    <tr>\n",
       "      <th>121</th>\n",
       "      <td>122</td>\n",
       "      <td>Mr._Mime</td>\n",
       "      <td>Psychic</td>\n",
       "      <td>Fairy</td>\n",
       "      <td>460</td>\n",
       "      <td>40</td>\n",
       "      <td>45</td>\n",
       "      <td>65</td>\n",
       "      <td>100</td>\n",
       "      <td>120</td>\n",
       "      <td>...</td>\n",
       "      <td>Pink</td>\n",
       "      <td>True</td>\n",
       "      <td>0.500</td>\n",
       "      <td>Human-Like</td>\n",
       "      <td>NaN</td>\n",
       "      <td>False</td>\n",
       "      <td>1.30</td>\n",
       "      <td>54.5</td>\n",
       "      <td>45</td>\n",
       "      <td>bipedal_tailless</td>\n",
       "    </tr>\n",
       "    <tr>\n",
       "      <th>122</th>\n",
       "      <td>123</td>\n",
       "      <td>Scyther</td>\n",
       "      <td>Bug</td>\n",
       "      <td>Flying</td>\n",
       "      <td>500</td>\n",
       "      <td>70</td>\n",
       "      <td>110</td>\n",
       "      <td>80</td>\n",
       "      <td>55</td>\n",
       "      <td>80</td>\n",
       "      <td>...</td>\n",
       "      <td>Green</td>\n",
       "      <td>True</td>\n",
       "      <td>0.500</td>\n",
       "      <td>Bug</td>\n",
       "      <td>NaN</td>\n",
       "      <td>False</td>\n",
       "      <td>1.50</td>\n",
       "      <td>56.0</td>\n",
       "      <td>45</td>\n",
       "      <td>four_wings</td>\n",
       "    </tr>\n",
       "    <tr>\n",
       "      <th>123</th>\n",
       "      <td>124</td>\n",
       "      <td>Jynx</td>\n",
       "      <td>Ice</td>\n",
       "      <td>Psychic</td>\n",
       "      <td>455</td>\n",
       "      <td>65</td>\n",
       "      <td>50</td>\n",
       "      <td>35</td>\n",
       "      <td>115</td>\n",
       "      <td>95</td>\n",
       "      <td>...</td>\n",
       "      <td>Red</td>\n",
       "      <td>True</td>\n",
       "      <td>0.000</td>\n",
       "      <td>Human-Like</td>\n",
       "      <td>NaN</td>\n",
       "      <td>False</td>\n",
       "      <td>1.40</td>\n",
       "      <td>40.6</td>\n",
       "      <td>45</td>\n",
       "      <td>bipedal_tailless</td>\n",
       "    </tr>\n",
       "  </tbody>\n",
       "</table>\n",
       "<p>124 rows × 23 columns</p>\n",
       "</div>"
      ],
      "text/plain": [
       "     Number        Name   Type_1   Type_2  Total  HP  Attack  Defense  Sp_Atk  \\\n",
       "0         1   Bulbasaur    Grass   Poison    318  45      49       49      65   \n",
       "1         2     Ivysaur    Grass   Poison    405  60      62       63      80   \n",
       "2         3    Venusaur    Grass   Poison    525  80      82       83     100   \n",
       "3         4  Charmander     Fire      NaN    309  39      52       43      60   \n",
       "4         5  Charmeleon     Fire      NaN    405  58      64       58      80   \n",
       "..      ...         ...      ...      ...    ...  ..     ...      ...     ...   \n",
       "119     120      Staryu    Water      NaN    340  30      45       55      70   \n",
       "120     121     Starmie    Water  Psychic    520  60      75       85     100   \n",
       "121     122    Mr._Mime  Psychic    Fairy    460  40      45       65     100   \n",
       "122     123     Scyther      Bug   Flying    500  70     110       80      55   \n",
       "123     124        Jynx      Ice  Psychic    455  65      50       35     115   \n",
       "\n",
       "     Sp_Def  ...   Color  hasGender  Pr_Male Egg_Group_1  Egg_Group_2  \\\n",
       "0        65  ...   Green       True    0.875     Monster        Grass   \n",
       "1        80  ...   Green       True    0.875     Monster        Grass   \n",
       "2       100  ...   Green       True    0.875     Monster        Grass   \n",
       "3        50  ...     Red       True    0.875     Monster       Dragon   \n",
       "4        65  ...     Red       True    0.875     Monster       Dragon   \n",
       "..      ...  ...     ...        ...      ...         ...          ...   \n",
       "119      55  ...   Brown      False      NaN     Water_3          NaN   \n",
       "120      85  ...  Purple      False      NaN     Water_3          NaN   \n",
       "121     120  ...    Pink       True    0.500  Human-Like          NaN   \n",
       "122      80  ...   Green       True    0.500         Bug          NaN   \n",
       "123      95  ...     Red       True    0.000  Human-Like          NaN   \n",
       "\n",
       "     hasMegaEvolution Height_m Weight_kg  Catch_Rate        Body_Style  \n",
       "0               False     0.71       6.9          45         quadruped  \n",
       "1               False     0.99      13.0          45         quadruped  \n",
       "2                True     2.01     100.0          45         quadruped  \n",
       "3               False     0.61       8.5          45    bipedal_tailed  \n",
       "4               False     1.09      19.0          45    bipedal_tailed  \n",
       "..                ...      ...       ...         ...               ...  \n",
       "119             False     0.79      34.5         225         head_base  \n",
       "120             False     1.09      80.0          60         head_base  \n",
       "121             False     1.30      54.5          45  bipedal_tailless  \n",
       "122             False     1.50      56.0          45        four_wings  \n",
       "123             False     1.40      40.6          45  bipedal_tailless  \n",
       "\n",
       "[124 rows x 23 columns]"
      ]
     },
     "execution_count": 56,
     "metadata": {},
     "output_type": "execute_result"
    }
   ],
   "source": [
    "import numpy as np\n",
    "import pandas as pd\n",
    "\n",
    "data = pd.read_csv(\"./pokemon/pokemon.csv\")\n",
    "data.head()"
   ]
  },
  {
   "cell_type": "code",
   "execution_count": 16,
   "id": "8c37fe5f",
   "metadata": {},
   "outputs": [],
   "source": [
    "Y = data[\"Type_1\"]\n",
    "X = data.drop(\"Type_1\",axis=1)"
   ]
  },
  {
   "cell_type": "code",
   "execution_count": 17,
   "id": "515fc04a",
   "metadata": {},
   "outputs": [
    {
     "data": {
      "text/html": [
       "<div>\n",
       "<style scoped>\n",
       "    .dataframe tbody tr th:only-of-type {\n",
       "        vertical-align: middle;\n",
       "    }\n",
       "\n",
       "    .dataframe tbody tr th {\n",
       "        vertical-align: top;\n",
       "    }\n",
       "\n",
       "    .dataframe thead th {\n",
       "        text-align: right;\n",
       "    }\n",
       "</style>\n",
       "<table border=\"1\" class=\"dataframe\">\n",
       "  <thead>\n",
       "    <tr style=\"text-align: right;\">\n",
       "      <th></th>\n",
       "      <th>HP</th>\n",
       "      <th>Attack</th>\n",
       "      <th>Defense</th>\n",
       "      <th>Sp_Atk</th>\n",
       "      <th>Sp_Def</th>\n",
       "      <th>Speed</th>\n",
       "      <th>Color</th>\n",
       "      <th>Body_Style</th>\n",
       "    </tr>\n",
       "  </thead>\n",
       "  <tbody>\n",
       "    <tr>\n",
       "      <th>0</th>\n",
       "      <td>45</td>\n",
       "      <td>49</td>\n",
       "      <td>49</td>\n",
       "      <td>65</td>\n",
       "      <td>65</td>\n",
       "      <td>45</td>\n",
       "      <td>Green</td>\n",
       "      <td>quadruped</td>\n",
       "    </tr>\n",
       "    <tr>\n",
       "      <th>1</th>\n",
       "      <td>60</td>\n",
       "      <td>62</td>\n",
       "      <td>63</td>\n",
       "      <td>80</td>\n",
       "      <td>80</td>\n",
       "      <td>60</td>\n",
       "      <td>Green</td>\n",
       "      <td>quadruped</td>\n",
       "    </tr>\n",
       "    <tr>\n",
       "      <th>2</th>\n",
       "      <td>80</td>\n",
       "      <td>82</td>\n",
       "      <td>83</td>\n",
       "      <td>100</td>\n",
       "      <td>100</td>\n",
       "      <td>80</td>\n",
       "      <td>Green</td>\n",
       "      <td>quadruped</td>\n",
       "    </tr>\n",
       "    <tr>\n",
       "      <th>3</th>\n",
       "      <td>39</td>\n",
       "      <td>52</td>\n",
       "      <td>43</td>\n",
       "      <td>60</td>\n",
       "      <td>50</td>\n",
       "      <td>65</td>\n",
       "      <td>Red</td>\n",
       "      <td>bipedal_tailed</td>\n",
       "    </tr>\n",
       "    <tr>\n",
       "      <th>4</th>\n",
       "      <td>58</td>\n",
       "      <td>64</td>\n",
       "      <td>58</td>\n",
       "      <td>80</td>\n",
       "      <td>65</td>\n",
       "      <td>80</td>\n",
       "      <td>Red</td>\n",
       "      <td>bipedal_tailed</td>\n",
       "    </tr>\n",
       "  </tbody>\n",
       "</table>\n",
       "</div>"
      ],
      "text/plain": [
       "   HP  Attack  Defense  Sp_Atk  Sp_Def  Speed  Color      Body_Style\n",
       "0  45      49       49      65      65     45  Green       quadruped\n",
       "1  60      62       63      80      80     60  Green       quadruped\n",
       "2  80      82       83     100     100     80  Green       quadruped\n",
       "3  39      52       43      60      50     65    Red  bipedal_tailed\n",
       "4  58      64       58      80      65     80    Red  bipedal_tailed"
      ]
     },
     "execution_count": 17,
     "metadata": {},
     "output_type": "execute_result"
    }
   ],
   "source": [
    "#On garde \"HP\",\"Attack\",\"Defense\",\"Sp_Atk\",\"Sp_Def\",\"Speed\",\"Color\",\"Height_m\",\"Weight_kg\",\"Body_Sty\"\n",
    "X = data.drop(\"Type_1\",axis=1)\n",
    "X_simple = X.drop([\"Number\",\"Name\",\"Type_2\",\"Total\",\"Generation\",\"isLegendary\",\"hasGender\",\"Pr_Male\",\"Egg_Group_1\",\"Egg_Group_2\",\"hasMegaEvolution\",\"Catch_Rate\",\"Height_m\",\"Weight_kg\"], axis = 1)\n",
    "X_simple.head()"
   ]
  },
  {
   "cell_type": "markdown",
   "id": "93fabf0b",
   "metadata": {},
   "source": [
    "On décide donc de garder ces statistiques pour notre prédiction, on va aussi garder deux variables qualitatives car nous pensons qu'elles peuvent avoir une forte influence sur le type d'un pokémon. On conserve donc les HP, les différentes statistiques d'attaque et défense, la vitesse, la couleur et le style de corps."
   ]
  },
  {
   "cell_type": "code",
   "execution_count": 18,
   "id": "80df4e34",
   "metadata": {},
   "outputs": [
    {
     "name": "stdout",
     "output_type": "stream",
     "text": [
      "(721, 8)\n",
      "HP            721\n",
      "Attack        721\n",
      "Defense       721\n",
      "Sp_Atk        721\n",
      "Sp_Def        721\n",
      "Speed         721\n",
      "Color         721\n",
      "Body_Style    721\n",
      "dtype: int64\n"
     ]
    }
   ],
   "source": [
    "print(X_simple.shape)\n",
    "print(X_simple.count()) #Aucune valeur manquante"
   ]
  },
  {
   "cell_type": "code",
   "execution_count": 19,
   "id": "9d090e87",
   "metadata": {},
   "outputs": [],
   "source": [
    "from sklearn import preprocessing\n",
    "le = preprocessing.LabelEncoder()\n",
    "\n",
    "X_simple[\"Color\"] = le.fit_transform(X_simple[\"Color\"] ) #transforme la couleur en numérique\n",
    "X_simple[\"Body_Style\"] = le.fit_transform(X_simple[\"Body_Style\"] ) #transforme le style de corps en numérique\n",
    "#X_simple[\"Body_Style\"].value_counts()"
   ]
  },
  {
   "cell_type": "markdown",
   "id": "c01165ae",
   "metadata": {},
   "source": [
    "Avant de commencer on doit effectuer quelques modifications. D'abord on vérifie si nous avons des valeurs manquantes, on remarque qu'il n'y en a pas. Ensuite on dois transformer nos deux variables qualitatives en variables quantitatives."
   ]
  },
  {
   "cell_type": "code",
   "execution_count": 20,
   "id": "9a7a6687",
   "metadata": {},
   "outputs": [
    {
     "data": {
      "image/png": "[encoded data removed]",
      "text/plain": [
       "<Figure size 640x480 with 2 Axes>"
      ]
     },
     "metadata": {},
     "output_type": "display_data"
    }
   ],
   "source": [
    "import seaborn as sns\n",
    "import matplotlib.pyplot as plt\n",
    "corr_matrix = X_simple.corr()\n",
    "sns.heatmap(corr_matrix, annot = True)\n",
    "plt.show()"
   ]
  },
  {
   "cell_type": "markdown",
   "id": "2cbb4779",
   "metadata": {},
   "source": [
    "On commence par évaluer le lien entre nos variables pour savoir s'il y a de la redondance d'informations entre deux variables. On réalise une matrice des corrélations, ici il n'y a pas de coefficient de corrélation élevé donc aucune variable à un fort lien. On les conservera toutes pour la prédiction."
   ]
  },
  {
   "cell_type": "code",
   "execution_count": 21,
   "id": "e07e026f",
   "metadata": {},
   "outputs": [],
   "source": [
    "from sklearn.model_selection import train_test_split\n",
    "\n",
    "splitnum = 2 # To compare fairly the various methods, we will split the examples in the same way for train/test\n",
    "\n",
    "X_train, X_test, y_train, y_test = train_test_split(X_simple, Y,random_state=splitnum)"
   ]
  },
  {
   "cell_type": "code",
   "execution_count": 22,
   "id": "d7837e88",
   "metadata": {},
   "outputs": [],
   "source": [
    "from sklearn.svm import LinearSVC \n",
    "from sklearn.linear_model import LogisticRegression\n",
    "from sklearn.ensemble import RandomForestClassifier\n",
    "from sklearn.metrics import accuracy_score\n",
    "from sklearn.linear_model import SGDClassifier\n",
    "\n",
    "\n",
    "#différente méthode \n",
    "lr = LogisticRegression()\n",
    "svc = LinearSVC()\n",
    "clf = SGDClassifier(loss=\"hinge\", penalty=\"l2\", max_iter=5)\n",
    "rfc = RandomForestClassifier()\n",
    "rfc_1 = RandomForestClassifier()\n",
    "\n",
    "\n",
    "# Fit : Entraine le modele\n",
    "# Predict : compare la reponse du modele par ropport au vrai données"
   ]
  },
  {
   "cell_type": "markdown",
   "id": "c21d47f3",
   "metadata": {},
   "source": [
    "On va comparer 4 modèles avec nos données. Nous utiliserons, une régression logistique, un Support Vector, un Random Forest et une classification utilisant la descente de gradient stochastique. On sortira les scores de ces différentes méthodes afin de déterminer la meilleure."
   ]
  },
  {
   "cell_type": "code",
   "execution_count": 23,
   "id": "c9328b96",
   "metadata": {},
   "outputs": [
    {
     "name": "stderr",
     "output_type": "stream",
     "text": [
      "C:\\Users\\ilias\\anaconda3\\lib\\site-packages\\sklearn\\linear_model\\_logistic.py:814: ConvergenceWarning: lbfgs failed to converge (status=1):\n",
      "STOP: TOTAL NO. of ITERATIONS REACHED LIMIT.\n",
      "\n",
      "Increase the number of iterations (max_iter) or scale the data as shown in:\n",
      "    https://scikit-learn.org/stable/modules/preprocessing.html\n",
      "Please also refer to the documentation for alternative solver options:\n",
      "    https://scikit-learn.org/stable/modules/linear_model.html#logistic-regression\n",
      "  n_iter_i = _check_optimize_result(\n"
     ]
    }
   ],
   "source": [
    "#régression logistique \n",
    "\n",
    "lr.fit(X_train,y_train)\n",
    "y_pred_lr = lr.predict(X_test)\n",
    "score_lr = accuracy_score(y_test, y_pred_lr)\n",
    "#print(score_lr)"
   ]
  },
  {
   "cell_type": "code",
   "execution_count": 24,
   "id": "62ffac03",
   "metadata": {},
   "outputs": [
    {
     "name": "stderr",
     "output_type": "stream",
     "text": [
      "C:\\Users\\ilias\\anaconda3\\lib\\site-packages\\sklearn\\svm\\_base.py:1206: ConvergenceWarning: Liblinear failed to converge, increase the number of iterations.\n",
      "  warnings.warn(\n"
     ]
    }
   ],
   "source": [
    "#Support Vector\n",
    "\n",
    "svc.fit(X_train,y_train)\n",
    "y_pred_svc = svc.predict(X_test)\n",
    "score_svc = accuracy_score(y_test, y_pred_svc)\n",
    "#print(score_svc)"
   ]
  },
  {
   "cell_type": "code",
   "execution_count": 25,
   "id": "ef3899d5",
   "metadata": {},
   "outputs": [],
   "source": [
    "#Random Forest\n",
    "\n",
    "rfc_1.fit(X_train,y_train)\n",
    "y_pred_rfc = rfc_1.predict(X_test)\n",
    "score_rfc_1 = accuracy_score(y_test, y_pred_rfc)\n",
    "#print(score_rfc)"
   ]
  },
  {
   "cell_type": "code",
   "execution_count": 26,
   "id": "e45d4b38",
   "metadata": {},
   "outputs": [
    {
     "name": "stderr",
     "output_type": "stream",
     "text": [
      "C:\\Users\\ilias\\anaconda3\\lib\\site-packages\\sklearn\\linear_model\\_stochastic_gradient.py:696: ConvergenceWarning: Maximum number of iteration reached before convergence. Consider increasing max_iter to improve the fit.\n",
      "  warnings.warn(\n"
     ]
    }
   ],
   "source": [
    "# classification utilisant la descente de gradient stochastique\n",
    "\n",
    "clf.fit(X_train,y_train)\n",
    "y_pred_clf = clf.predict(X_test)\n",
    "score_clf = accuracy_score(y_test, y_pred_clf)\n",
    "#print(score_clf)"
   ]
  },
  {
   "cell_type": "code",
   "execution_count": 27,
   "id": "3b7b87d5",
   "metadata": {},
   "outputs": [
    {
     "name": "stdout",
     "output_type": "stream",
     "text": [
      "Accuracy:\n",
      " Logistic Reg: 0.249 \n",
      " Support Vector: 0.116 \n",
      " Random Forest: 0.381 \n",
      " SGDClassifier : 0.055\n"
     ]
    }
   ],
   "source": [
    "#score_most_pop = sum(1-y_test)/y_test.size\n",
    "\n",
    "print(\"Accuracy:\\n Logistic Reg: {} \\n Support Vector: {} \\n Random Forest: {} \\n SGDClassifier : {}\".format(score_lr.round(3),score_svc.round(3),score_rfc_1.round(3),score_clf.round(3)))"
   ]
  },
  {
   "cell_type": "code",
   "execution_count": 28,
   "id": "39e7e81e",
   "metadata": {},
   "outputs": [
    {
     "data": {
      "image/png": "[encoded data removed]",
      "text/plain": [
       "<Figure size 640x480 with 1 Axes>"
      ]
     },
     "metadata": {},
     "output_type": "display_data"
    }
   ],
   "source": [
    "import matplotlib.pyplot as plt\n",
    "\n",
    "# données à afficher dans le diagramme en barre\n",
    "score = [score_lr.round(3),score_svc.round(3),score_rfc_1.round(3),score_clf.round(3)]\n",
    "\n",
    "# créer un diagramme en barre en utilisant les données et les étiquettes pour les barres\n",
    "plt.bar(range(len(score)), score, tick_label=['Logistic Reg', 'Support Vector', 'Random Forest', 'SGDClassifier'])\n",
    "\n",
    "# ajouter un titre\n",
    "plt.title('Score des différentes fonctions')\n",
    "\n",
    "# afficher le diagramme\n",
    "plt.show()"
   ]
  },
  {
   "cell_type": "markdown",
   "id": "fc7e4db6",
   "metadata": {},
   "source": [
    "On voit que le random Forest à le score le plus élevé, donc réalise la meilleure prédiction sur notre jeu de données. Les autres méthodes n'obtiennent pas des scores conséquents. Le random Forest est certes la meilleure méthode, mais à un score qui tourne autour de 35%, une valeur qui peut être insuffisantes pour prédire le type d'un pokémon. Les statistiques ainsi que la couleur et le type de corps ne semblent pas constituer des informations convenables pour prédire le type d'un pokémon. Pour le voir nous allons tester sur un pokémon particulier nos différentes méthodes."
   ]
  },
  {
   "cell_type": "markdown",
   "id": "61e92d72",
   "metadata": {},
   "source": [
    "On utilisera les caractéristiques du pokémon Chimpenfeu afin de retrouver son type feu."
   ]
  },
  {
   "cell_type": "code",
   "execution_count": 29,
   "id": "2d317ed3",
   "metadata": {},
   "outputs": [],
   "source": [
    "#Couleur rouge = 7\n",
    "# bipedal_tailed = 0\n",
    "\n",
    "# Créer un dictionnaire Python avec les caractéristiques de Chimpenfeu \n",
    "donnees = {'HP': [64],\n",
    "           'Attack': [78],\n",
    "           'Defense': [52],\n",
    "           'Sp_Atk': [78],\n",
    "           'Sp_Def': [52],\n",
    "          'Speed': [81],\n",
    "           'Color': [7],\n",
    "          'Body_Style': [0],\n",
    "           }\n",
    "\n",
    "# Créer un dataframe à partir du dictionnaire en utilisant la fonction DataFrame() de pandas\n",
    "df = pd.DataFrame(donnees)\n",
    "\n",
    "# Afficher le dataframe en utilisant la fonction print() de Python\n",
    "#print(df)"
   ]
  },
  {
   "cell_type": "code",
   "execution_count": 30,
   "id": "4b5e1e87",
   "metadata": {},
   "outputs": [
    {
     "data": {
      "text/plain": [
       "array(['Fairy'], dtype=object)"
      ]
     },
     "execution_count": 30,
     "metadata": {},
     "output_type": "execute_result"
    }
   ],
   "source": [
    "#Support Vector\n",
    "\n",
    "y_pred_svc_1 = svc.predict(df)\n",
    "y_pred_svc_1 #Ne prédit pas le bon type "
   ]
  },
  {
   "cell_type": "code",
   "execution_count": 31,
   "id": "e0c9d4ad",
   "metadata": {},
   "outputs": [
    {
     "data": {
      "text/plain": [
       "array(['Steel'], dtype='<U8')"
      ]
     },
     "execution_count": 31,
     "metadata": {},
     "output_type": "execute_result"
    }
   ],
   "source": [
    "#SGDClassifier\n",
    "\n",
    "y_pred_clf_1 = clf.predict(df)\n",
    "y_pred_clf_1 #Ne prédit le bon type mais pas toujours"
   ]
  },
  {
   "cell_type": "code",
   "execution_count": 32,
   "id": "9174619c",
   "metadata": {},
   "outputs": [
    {
     "data": {
      "text/plain": [
       "array(['Fire'], dtype=object)"
      ]
     },
     "execution_count": 32,
     "metadata": {},
     "output_type": "execute_result"
    }
   ],
   "source": [
    "#Logistic Reg\n",
    "\n",
    "y_pred_lr_1 = lr.predict(df)\n",
    "y_pred_lr_1 #Prédit le bon type  "
   ]
  },
  {
   "cell_type": "code",
   "execution_count": 34,
   "id": "c07fe69d",
   "metadata": {},
   "outputs": [
    {
     "data": {
      "text/plain": [
       "array(['Fire'], dtype=object)"
      ]
     },
     "execution_count": 34,
     "metadata": {},
     "output_type": "execute_result"
    }
   ],
   "source": [
    "#Random Forest\n",
    "\n",
    "y_pred_rfc_1 = rfc_1.predict(df)\n",
    "y_pred_rfc_1  #Prédit le bon type "
   ]
  },
  {
   "cell_type": "markdown",
   "id": "e9fd910f",
   "metadata": {},
   "source": [
    "Quand on teste avec les données d'un seul pokémon, le modèle Support Vector ne prédit pas le type feu de Chimpenfeu, ce qui est cohérent quand on voit son score. Le SGDClassifier ne prédit pas toujours le bon type, son score varie beaucoup quand on crée le modèle sur nos données, ce qui explique que sa prédiction est aléatoire. La régression logistique et le Random Forest quant à eux prédisent le bon type de notre pokémon. "
   ]
  },
  {
   "cell_type": "markdown",
   "id": "f8d85f46",
   "metadata": {},
   "source": [
    "Le problème est que Chimpenfeu est présent dans nos données, on va donc refaire nos deux meilleurs méthode avec un pokémon de la dernière génération qui n'est pas pris en compte dans nos données."
   ]
  },
  {
   "cell_type": "markdown",
   "id": "ba35dc97",
   "metadata": {},
   "source": [
    "On choisit Otaquin un pokémon de type eau."
   ]
  },
  {
   "cell_type": "code",
   "execution_count": 35,
   "id": "86426911",
   "metadata": {},
   "outputs": [],
   "source": [
    "#Couleur bleu = 1\n",
    "# with_fins = 13\n",
    "\n",
    "# Créer un dictionnaire Python avec les caractéristiques de Otaquin \n",
    "donnees = {'HP': [50],\n",
    "           'Attack': [54],\n",
    "           'Defense': [54],\n",
    "           'Sp_Atk': [66],\n",
    "           'Sp_Def': [56],\n",
    "          'Speed': [40],\n",
    "           'Color': [1],\n",
    "          'Body_Style': [13],\n",
    "           }\n",
    "\n",
    "# Créer un dataframe à partir du dictionnaire en utilisant la fonction DataFrame() de pandas\n",
    "df2 = pd.DataFrame(donnees)\n",
    "\n",
    "# Afficher le dataframe en utilisant la fonction print() de Python\n",
    "#print(df)"
   ]
  },
  {
   "cell_type": "code",
   "execution_count": 36,
   "id": "888f167f",
   "metadata": {},
   "outputs": [
    {
     "data": {
      "text/plain": [
       "array(['Water'], dtype=object)"
      ]
     },
     "execution_count": 36,
     "metadata": {},
     "output_type": "execute_result"
    }
   ],
   "source": [
    "#Logistic Reg\n",
    "\n",
    "y_pred_lr_1 = lr.predict(df2)\n",
    "y_pred_lr_1 #Prédit le bon type"
   ]
  },
  {
   "cell_type": "code",
   "execution_count": 38,
   "id": "d893e520",
   "metadata": {},
   "outputs": [
    {
     "data": {
      "text/plain": [
       "array(['Water'], dtype=object)"
      ]
     },
     "execution_count": 38,
     "metadata": {},
     "output_type": "execute_result"
    }
   ],
   "source": [
    "#Random Forest\n",
    "\n",
    "y_pred_rfc_1 = rfc_1.predict(df2)\n",
    "y_pred_rfc_1  #Prédit le bon type "
   ]
  },
  {
   "cell_type": "markdown",
   "id": "23811307",
   "metadata": {},
   "source": [
    "Les deux méthodes avec le meilleur score arrivent à retrouver le type eau d'Otaquin. Les 35% de score du random Forest semblait ne pas être consistant, mais sur ces deux exemples la prédiction est correcte."
   ]
  },
  {
   "cell_type": "markdown",
   "id": "80fb7411",
   "metadata": {},
   "source": [
    "Nous avons eu envie de tester les limites de la méthode Random Forest car nous accusons la couleur d'avoir un effet important sur la prédiction. On va donc faire un modèle qui ne prend pas en compte la couleur."
   ]
  },
  {
   "cell_type": "code",
   "execution_count": 39,
   "id": "09974b87",
   "metadata": {},
   "outputs": [],
   "source": [
    "X = data.drop(\"Type_1\",axis=1)\n",
    "X_simple2 = X.drop([\"Number\",\"Name\",\"Type_2\",\"Total\",\"Generation\",\"isLegendary\",\"hasGender\",\"Pr_Male\",\"Egg_Group_1\",\"Egg_Group_2\",\"hasMegaEvolution\",\"Catch_Rate\",\"Height_m\",\"Weight_kg\",\"Color\"], axis = 1)\n",
    "#X_simple2.head()"
   ]
  },
  {
   "cell_type": "code",
   "execution_count": 40,
   "id": "24da6eb2",
   "metadata": {},
   "outputs": [],
   "source": [
    "X_simple2[\"Body_Style\"] = le.fit_transform(X_simple2[\"Body_Style\"] ) #transforme le style de corps en numérique\n",
    "#X_simple2.head()"
   ]
  },
  {
   "cell_type": "code",
   "execution_count": 41,
   "id": "b3192494",
   "metadata": {},
   "outputs": [],
   "source": [
    "from sklearn.model_selection import train_test_split\n",
    "\n",
    "splitnum = 2 # To compare fairly the various methods, we will split the examples in the same way for train/test\n",
    "\n",
    "X_train, X_test, y_train, y_test = train_test_split(X_simple2, Y,random_state=splitnum)"
   ]
  },
  {
   "cell_type": "code",
   "execution_count": 42,
   "id": "8c901c2e",
   "metadata": {},
   "outputs": [
    {
     "name": "stdout",
     "output_type": "stream",
     "text": [
      "0.315\n"
     ]
    }
   ],
   "source": [
    "#Random Forest\n",
    "\n",
    "rfc.fit(X_train,y_train)\n",
    "y_pred_rfc = rfc.predict(X_test)\n",
    "score_rfc_2 = accuracy_score(y_test, y_pred_rfc)\n",
    "print(score_rfc_2.round(3))"
   ]
  },
  {
   "cell_type": "code",
   "execution_count": 43,
   "id": "947afac7",
   "metadata": {},
   "outputs": [
    {
     "data": {
      "image/png": "[encoded data removed]",
      "text/plain": [
       "<Figure size 640x480 with 1 Axes>"
      ]
     },
     "metadata": {},
     "output_type": "display_data"
    }
   ],
   "source": [
    "# données à afficher dans le diagramme en barre\n",
    "score = [score_rfc_1.round(3),score_rfc_2.round(3)]\n",
    "\n",
    "# créer un diagramme en barre en utilisant les données et les étiquettes pour les barres\n",
    "plt.bar(range(len(score)), score, tick_label=[ 'Tout les paramètres', 'Sans la couleur'])\n",
    "\n",
    "# ajouter un titre\n",
    "plt.title('Score des Random Forest')\n",
    "\n",
    "# afficher le diagramme\n",
    "plt.show()"
   ]
  },
  {
   "cell_type": "markdown",
   "id": "0ae27155",
   "metadata": {},
   "source": [
    "On compare le score précédent au score sans la couleur. Il y a forcément une diminution, elle est environ de 5%, le modèle tournait déjà avec un score assez faible on va voir s'il arrive à retrouver le type eau d'Ottaquin."
   ]
  },
  {
   "cell_type": "code",
   "execution_count": 44,
   "id": "a69df5a1",
   "metadata": {},
   "outputs": [],
   "source": [
    "#Couleur bleu = 1\n",
    "# with_fins = 13\n",
    "\n",
    "# Créer un dictionnaire Python avec les caractéristiques de Otaquin \n",
    "donnees = {'HP': [50],\n",
    "           'Attack': [54],\n",
    "           'Defense': [54],\n",
    "           'Sp_Atk': [66],\n",
    "           'Sp_Def': [56],\n",
    "          'Speed': [40],\n",
    "           #'Color': [1],\n",
    "          'Body_Style': [13],\n",
    "           }\n",
    "\n",
    "# Créer un dataframe à partir du dictionnaire en utilisant la fonction DataFrame() de pandas\n",
    "df3 = pd.DataFrame(donnees)\n",
    "\n",
    "# Afficher le dataframe en utilisant la fonction print() de Python\n",
    "#print(df)"
   ]
  },
  {
   "cell_type": "code",
   "execution_count": 45,
   "id": "ac5d7fd7",
   "metadata": {},
   "outputs": [
    {
     "data": {
      "text/plain": [
       "array(['Water'], dtype=object)"
      ]
     },
     "execution_count": 45,
     "metadata": {},
     "output_type": "execute_result"
    }
   ],
   "source": [
    "#Random Forest\n",
    "\n",
    "y_pred_rfc_1 = rfc.predict(df3)\n",
    "y_pred_rfc_1  #Prédit la bonne valeur "
   ]
  },
  {
   "cell_type": "markdown",
   "id": "fedac096",
   "metadata": {},
   "source": [
    "Le modèle prédit encore le bon type. Deux hypothèses s'offrent à nous soit le modèle est efficace, soit Ottaquin a des caractéristiques qui expliquent bien son type et constitue un cas particulier ou la prédiction fonctionne bien."
   ]
  },
  {
   "cell_type": "markdown",
   "id": "cabc9a70",
   "metadata": {},
   "source": [
    "Nous allons aussi enlever le type de corps afin de conserver uniquement les statistiques d'un pokémon dans le modèle."
   ]
  },
  {
   "cell_type": "code",
   "execution_count": 46,
   "id": "0dd284db",
   "metadata": {},
   "outputs": [],
   "source": [
    "X = data.drop(\"Type_1\",axis=1)\n",
    "X_simple3 = X.drop([\"Number\",\"Name\",\"Type_2\",\"Total\",\"Generation\",\"isLegendary\",\"hasGender\",\"Pr_Male\",\"Egg_Group_1\",\"Egg_Group_2\",\"hasMegaEvolution\",\"Catch_Rate\",\"Height_m\",\"Weight_kg\",\"Color\",\"Body_Style\"], axis = 1)\n",
    "\n",
    "from sklearn.model_selection import train_test_split\n",
    "\n",
    "splitnum = 2 # To compare fairly the various methods, we will split the examples in the same way for train/test\n",
    "\n",
    "X_train, X_test, y_train, y_test = train_test_split(X_simple3, Y,random_state=splitnum)"
   ]
  },
  {
   "cell_type": "code",
   "execution_count": 47,
   "id": "e0606420",
   "metadata": {},
   "outputs": [
    {
     "name": "stdout",
     "output_type": "stream",
     "text": [
      "0.232\n"
     ]
    }
   ],
   "source": [
    "#Random Forest\n",
    "\n",
    "rfc.fit(X_train,y_train)\n",
    "y_pred_rfc = rfc.predict(X_test)\n",
    "score_rfc_3 = accuracy_score(y_test, y_pred_rfc)\n",
    "print(score_rfc_3.round(3))"
   ]
  },
  {
   "cell_type": "code",
   "execution_count": 48,
   "id": "1a97536d",
   "metadata": {},
   "outputs": [
    {
     "data": {
      "image/png": "[encoded data removed]",
      "text/plain": [
       "<Figure size 640x480 with 1 Axes>"
      ]
     },
     "metadata": {},
     "output_type": "display_data"
    }
   ],
   "source": [
    "# données à afficher dans le diagramme en barre\n",
    "score = [score_rfc_1.round(3),score_rfc_2.round(3),score_rfc_3.round(3)]\n",
    "\n",
    "# créer un diagramme en barre en utilisant les données et les étiquettes pour les barres\n",
    "plt.bar(range(len(score)), score, tick_label=[ 'Tout les paramètres', 'sans la couleur','que les stats'])\n",
    "\n",
    "# ajouter un titre\n",
    "plt.title('Score des Random Forest')\n",
    "\n",
    "# afficher le diagramme\n",
    "plt.show()"
   ]
  },
  {
   "cell_type": "markdown",
   "id": "7a12de2c",
   "metadata": {},
   "source": [
    "Le modèle perd encore du score, la prédiction devient vraiment très peu fiable. Le score tourne autour des 20%."
   ]
  },
  {
   "cell_type": "code",
   "execution_count": 49,
   "id": "7224c5d1",
   "metadata": {},
   "outputs": [],
   "source": [
    "#Couleur bleu = 1\n",
    "# with_fins = 13\n",
    "\n",
    "# Créer un dictionnaire Python avec les caractéristiques de Otaquin \n",
    "donnees = {'HP': [50],\n",
    "           'Attack': [54],\n",
    "           'Defense': [54],\n",
    "           'Sp_Atk': [66],\n",
    "           'Sp_Def': [56],\n",
    "          'Speed': [40],\n",
    "           #'Color': [1],\n",
    "          #'Body_Style': [13],\n",
    "           }\n",
    "\n",
    "# Créer un dataframe à partir du dictionnaire en utilisant la fonction DataFrame() de pandas\n",
    "df4 = pd.DataFrame(donnees)\n",
    "\n",
    "# Afficher le dataframe en utilisant la fonction print() de Python\n",
    "#print(df)"
   ]
  },
  {
   "cell_type": "code",
   "execution_count": 50,
   "id": "43b5cf76",
   "metadata": {},
   "outputs": [
    {
     "data": {
      "text/plain": [
       "array(['Water'], dtype=object)"
      ]
     },
     "execution_count": 50,
     "metadata": {},
     "output_type": "execute_result"
    }
   ],
   "source": [
    "#Random Forest\n",
    "\n",
    "y_pred_rfc_1 = rfc.predict(df4)\n",
    "y_pred_rfc_1  #Prédit la bonne valeur "
   ]
  },
  {
   "cell_type": "markdown",
   "id": "c5070642",
   "metadata": {},
   "source": [
    "Malgré un score très peu fiable, le type eau d'Ottaquin arrive encore à être prédit. Ce pokémon semble donc constituer un cas particulier. Quand on teste avec d'autres pokémon de la dernière génération, on se rend compte des limites du modèle."
   ]
  },
  {
   "cell_type": "markdown",
   "id": "fb2ac65f",
   "metadata": {},
   "source": [
    "On va choisir de conserver le modèle avec tous les paramètres afin de l'inclure dans une interface graphique. On sauvegarde le modèle et l'essaye sur deux autres pokémon. On choisit Vémini un pokémon de type poison et Rubombelle un pokémon de type insecte."
   ]
  },
  {
   "cell_type": "code",
   "execution_count": 51,
   "id": "f1880fe9",
   "metadata": {},
   "outputs": [],
   "source": [
    "#Sauvegarde du modèle\n",
    "import pickle\n",
    "\n",
    "with open('model.pkl', 'wb') as f:\n",
    "  pickle.dump(rfc_1, f)"
   ]
  },
  {
   "cell_type": "code",
   "execution_count": 52,
   "id": "51786582",
   "metadata": {},
   "outputs": [],
   "source": [
    "#Pour ouvrir le modèle\n",
    "with open('model.pkl', 'rb') as f: \n",
    "    model = pickle.load(f)"
   ]
  },
  {
   "cell_type": "code",
   "execution_count": 53,
   "id": "87158bc4",
   "metadata": {},
   "outputs": [],
   "source": [
    "#Couleur violet = 6\n",
    "# bipedal_tailed = 0\n",
    "\n",
    "# Créer un dictionnaire Python avec les caractéristiques de Vemini \n",
    "donnees = {'HP': [67],\n",
    "           'Attack': [73],\n",
    "           'Defense': [67],\n",
    "           'Sp_Atk': [73],\n",
    "           'Sp_Def': [67],\n",
    "          'Speed': [73],\n",
    "           'Color': [6],\n",
    "          'Body_Style': [0],\n",
    "           }\n",
    "\n",
    "# Créer un dataframe à partir du dictionnaire en utilisant la fonction DataFrame() de pandas\n",
    "df5 = pd.DataFrame(donnees)\n",
    "\n",
    "# Afficher le dataframe en utilisant la fonction print() de Python\n",
    "#print(df)"
   ]
  },
  {
   "cell_type": "code",
   "execution_count": 54,
   "id": "cc7e43e3",
   "metadata": {},
   "outputs": [
    {
     "data": {
      "text/plain": [
       "array(['Fire'], dtype=object)"
      ]
     },
     "execution_count": 54,
     "metadata": {},
     "output_type": "execute_result"
    }
   ],
   "source": [
    "model.predict(df5) #mauvaise prédiction"
   ]
  },
  {
   "cell_type": "code",
   "execution_count": 57,
   "id": "dbff58fc",
   "metadata": {},
   "outputs": [],
   "source": [
    "#Couleur jaune = 9\n",
    "# four_wings = 2\n",
    "\n",
    "# Créer un dictionnaire Python avec les caractéristiques de Rubombelle \n",
    "donnees = {'HP': [60],\n",
    "           'Attack': [55],\n",
    "           'Defense': [60],\n",
    "           'Sp_Atk': [95],\n",
    "           'Sp_Def': [70],\n",
    "          'Speed': [124],\n",
    "           'Color': [1],\n",
    "          'Body_Style': [2],\n",
    "           }\n",
    "\n",
    "# Créer un dataframe à partir du dictionnaire en utilisant la fonction DataFrame() de pandas\n",
    "df6 = pd.DataFrame(donnees)\n",
    "\n",
    "# Afficher le dataframe en utilisant la fonction print() de Python\n",
    "#print(df)"
   ]
  },
  {
   "cell_type": "code",
   "execution_count": 58,
   "id": "0cfc6f46",
   "metadata": {},
   "outputs": [
    {
     "data": {
      "text/plain": [
       "array(['Psychic'], dtype=object)"
      ]
     },
     "execution_count": 58,
     "metadata": {},
     "output_type": "execute_result"
    }
   ],
   "source": [
    "model.predict(df6) #mauvaise prédiction"
   ]
  },
  {
   "cell_type": "markdown",
   "id": "f61e0a04",
   "metadata": {},
   "source": [
    "C'est deux exemples illustres bien les limites du modèle, car les deux prédictions, avec le meilleur modèle, sont fausses. On peut en conclure que premièrement la prédiction du type eau d'Ottaquin est un cas particulier, deuxièmement que les statistisques avec la couleur et la forme du corps d'un pokémon ne constituent pas des informations suffisantes pour pré-dir le type d'un pokémon."
   ]
  }
 ],
 "metadata": {
  "kernelspec": {
   "display_name": "Python 3 (ipykernel)",
   "language": "python",
   "name": "python3"
  },
  "language_info": {
   "codemirror_mode": {
    "name": "ipython",
    "version": 3
   },
   "file_extension": ".py",
   "mimetype": "text/x-python",
   "name": "python",
   "nbconvert_exporter": "python",
   "pygments_lexer": "ipython3",
   "version": "3.9.13"
  }
 },
 "nbformat": 4,
 "nbformat_minor": 5
}
